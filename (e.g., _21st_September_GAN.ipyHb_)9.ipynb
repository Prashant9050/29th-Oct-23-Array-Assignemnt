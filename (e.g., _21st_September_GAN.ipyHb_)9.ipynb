{
 "cells": [
  {
   "cell_type": "code",
   "execution_count": 9,
   "id": "b29dbc82-f16c-410d-a3d7-1b193f96ae97",
   "metadata": {},
   "outputs": [
    {
     "name": "stdout",
     "output_type": "stream",
     "text": [
      "True\n"
     ]
    }
   ],
   "source": [
    "#1. Given an array, check if it contains any duplicates or not.\n",
    "#arr = [1, 2, 4, 2, 5, 9]\n",
    "#Output = True\n",
    "def contains_duplicates(arr):\n",
    "    seen = set()\n",
    "    for num in arr:\n",
    "        if num in seen:\n",
    "            return True\n",
    "        seen.add(num)\n",
    "    return False\n",
    "\n",
    "arr = [1, 2, 4, 2, 5, 9]\n",
    "output = contains_duplicates(arr)\n",
    "print(output)  # Output: True"
   ]
  },
  {
   "cell_type": "code",
   "execution_count": 8,
   "id": "13e6586c-c7e2-4ab4-89e2-804bf13fc692",
   "metadata": {},
   "outputs": [
    {
     "name": "stdout",
     "output_type": "stream",
     "text": [
      "[5, 6, 7, 1, 2, 3, 4]\n"
     ]
    }
   ],
   "source": [
    "#2. Given an array and an integer k, rotate the array to the right by k steps.\n",
    "#arr = [1, 2, 3, 4, 5, 6, 7] k = 3\n",
    "#Output = [5, 6, 7, 1, 2, 3, 4]\n",
    "def rotate_array(arr, k):\n",
    "    \n",
    "    n = len(arr)\n",
    "    k = k % n  # Handling cases where k is greater than the length of the array\n",
    "\n",
    "    # Reverse the entire array\n",
    "    arr.reverse()\n",
    "    \n",
    "    # Reverse the first k elements\n",
    "    arr[:k] = reversed(arr[:k])\n",
    "    \n",
    "    # Reverse the remaining elements\n",
    "    arr[k:] = reversed(arr[k:])\n",
    "\n",
    "arr = [1, 2, 3, 4, 5, 6, 7]\n",
    "k = 3\n",
    "rotate_array(arr, k)\n",
    "print(arr)  # Output: [5, 6, 7, 1, 2, 3, 4]"
   ]
  },
  {
   "cell_type": "code",
   "execution_count": 10,
   "id": "1c52bc07-884c-404f-ae10-fe6d2807dd6c",
   "metadata": {},
   "outputs": [
    {
     "name": "stdout",
     "output_type": "stream",
     "text": [
      "[12, 9, 7, 5, 4, 2]\n"
     ]
    }
   ],
   "source": [
    "#3. Reverse the given array in-place, means without using any extra data structure.\n",
    "#arr = [2, 4, 5, 7, 9, 12]\n",
    "#Output = [12, 9, 7, 5, 4, 2]\n",
    "def reverse_array(arr):\n",
    "    left = 0\n",
    "    right = len(arr) - 1\n",
    "    \n",
    "    while left < right:\n",
    "        # Swap elements\n",
    "        arr[left], arr[right] = arr[right], arr[left]\n",
    "        # Move pointers towards the center\n",
    "        left += 1\n",
    "        right -= 1\n",
    "\n",
    "arr = [2, 4, 5, 7, 9, 12]\n",
    "reverse_array(arr)\n",
    "print(arr)  # Output: [12, 9, 7, 5, 4, 2]"
   ]
  },
  {
   "cell_type": "code",
   "execution_count": 11,
   "id": "99327f81-fada-4a84-a060-ba8ed43564d8",
   "metadata": {},
   "outputs": [
    {
     "name": "stdout",
     "output_type": "stream",
     "text": [
      "20\n"
     ]
    }
   ],
   "source": [
    "#4. Given an array of integers, find the maximum element in an array\n",
    "#arr = [10, 5, 20, 8, 15]\n",
    "#Output = 20\n",
    "def find_max(arr):\n",
    "    max_element = float('-inf')  # Initialize max_element with negative infinity\n",
    "    \n",
    "    for num in arr:\n",
    "        if num > max_element:\n",
    "            max_element = num\n",
    "    \n",
    "    return max_element\n",
    "\n",
    "arr = [10, 5, 20, 8, 15]\n",
    "output = find_max(arr)\n",
    "print(output)  # Output: 20"
   ]
  },
  {
   "cell_type": "code",
   "execution_count": 12,
   "id": "df39481d-9637-4a2f-a3f1-a3bacac24f84",
   "metadata": {},
   "outputs": [
    {
     "name": "stdout",
     "output_type": "stream",
     "text": [
      "[1, 2, 3, 4, 5]\n"
     ]
    }
   ],
   "source": [
    "#5. Given a sorted array, remove the duplicate element without using any extra data structure.\n",
    "#arr = [1, 1, 2, 2, 2, 3, 3, 4, 4, 4, 5, 5]\n",
    "#Output = [1, 2, 3, 4, 5]\n",
    "def remove_duplicates(arr):\n",
    "    if not arr:  # Handle empty array case\n",
    "        return []\n",
    "\n",
    "    index = 0  # Index to track the position to place the next unique element\n",
    "    \n",
    "    for i in range(len(arr)):\n",
    "        if arr[i] != arr[index]:\n",
    "            index += 1\n",
    "            arr[index] = arr[i]\n",
    "    \n",
    "    return arr[:index + 1]\n",
    "\n",
    "arr = [1, 1, 2, 2, 2, 3, 3, 4, 4, 4, 5, 5]\n",
    "output = remove_duplicates(arr)\n",
    "print(output)  # Output: [1, 2, 3, 4, 5]\n"
   ]
  },
  {
   "cell_type": "code",
   "execution_count": null,
   "id": "950271ff-fc0c-42c7-bbbe-f79c8bfa851f",
   "metadata": {},
   "outputs": [],
   "source": []
  }
 ],
 "metadata": {
  "kernelspec": {
   "display_name": "Python 3 (ipykernel)",
   "language": "python",
   "name": "python3"
  },
  "language_info": {
   "codemirror_mode": {
    "name": "ipython",
    "version": 3
   },
   "file_extension": ".py",
   "mimetype": "text/x-python",
   "name": "python",
   "nbconvert_exporter": "python",
   "pygments_lexer": "ipython3",
   "version": "3.10.8"
  }
 },
 "nbformat": 4,
 "nbformat_minor": 5
}
